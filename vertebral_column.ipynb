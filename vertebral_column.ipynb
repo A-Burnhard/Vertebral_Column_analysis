{
  "nbformat": 4,
  "nbformat_minor": 0,
  "metadata": {
    "colab": {
      "provenance": [],
      "toc_visible": true,
      "include_colab_link": true
    },
    "kernelspec": {
      "name": "python3",
      "display_name": "Python 3"
    },
    "language_info": {
      "name": "python"
    }
  },
  "cells": [
    {
      "cell_type": "markdown",
      "metadata": {
        "id": "view-in-github",
        "colab_type": "text"
      },
      "source": [
        "<a href=\"https://colab.research.google.com/github/A-Burnhard/Vertebral_Column_analysis/blob/main/vertebral_column.ipynb\" target=\"_parent\"><img src=\"https://colab.research.google.com/assets/colab-badge.svg\" alt=\"Open In Colab\"/></a>"
      ]
    },
    {
      "cell_type": "code",
      "execution_count": 10,
      "metadata": {
        "id": "RiY4tPP1sT1i"
      },
      "outputs": [],
      "source": [
        "import pandas as pd\n",
        "import numpy as np\n",
        "from sklearn.model_selection import train_test_split\n",
        "from sklearn.tree import DecisionTreeClassifier\n",
        "from sklearn.metrics import classification_report\n",
        "from sklearn.preprocessing import LabelEncoder\n"
      ]
    },
    {
      "cell_type": "code",
      "source": [
        "data = pd.read_csv(\"column_2C.dat\", delimiter= \"\\s+\" )\n",
        "data.to_csv(\"column_2C.csv\", index=False)\n",
        "\n",
        "data = pd.read_csv(\"column_3C.dat\", delimiter= \"\\s+\")\n",
        "data.to_csv(\"column_3C.csv\", index=False)"
      ],
      "metadata": {
        "id": "F44usfIz1MMm"
      },
      "execution_count": 5,
      "outputs": []
    },
    {
      "cell_type": "code",
      "source": [
        "# importing datasets\n",
        "cols1= [\"pelvic_incidence numeric\", \"pelvic_tilt numeric\", \"lumbar_lordosis_angle numeric\", \"sacral_slope numeric\",\"pelvic_radius numeric\", \"degree_spondylolisthesis numeric\"]\n",
        "cols2 = [\"pelvic_incidence numeric\",\"pelvic_tilt numeric\", \"lumbar_lordosis_angle numeric\", \"sacral_slope numeric\", \"pelvic_radius numeric\", \"degree_spondylolisthesis numeric\"]\n",
        "data_set1 = pd.read_csv(\"column_2C.csv\", names = cols1)\n",
        "data_set2 = pd.read_csv(\"column_3C.csv\", names=cols2)\n",
        "\n",
        "\n",
        "\n",
        "#merge the datasets\n",
        "vertebral_data = pd.concat([data_set1, data_set2], ignore_index=True)\n",
        "vertebral_data\n"
      ],
      "metadata": {
        "id": "ygtXPlNlvJyP"
      },
      "execution_count": null,
      "outputs": []
    },
    {
      "cell_type": "code",
      "source": [
        "class_values = [1] * len(data_set1) + [2] * len(data_set2)  # Example class values, replace with your own values\n",
        "vertebral_data[\"class\"] = class_values\n",
        "\n",
        "value_mapping = {\"NO\": 1, \"AB\": 0, \"DH\": 2, \"SL\": 3}  # Mapping\n",
        "\n",
        "print(vertebral_data)"
      ],
      "metadata": {
        "id": "ZXf-is9XGJ0C"
      },
      "execution_count": null,
      "outputs": []
    },
    {
      "cell_type": "code",
      "source": [
        "#split the data into training and validation sets\n",
        "vertebral_features = vertebral_data.drop(\"class\", axis=1)\n",
        "vertebral_labels = vertebral_data[\"class\"]\n",
        "vertebral_train_features, vertebral_val_features, vertebral_train_labels, vertebral_val_labels = train_test_split(vertebral_features, vertebral_labels, test_size=0.2, random_state=42)\n"
      ],
      "metadata": {
        "id": "o0tG15BFvu2a"
      },
      "execution_count": 59,
      "outputs": []
    },
    {
      "cell_type": "code",
      "source": [
        "# Perform one-hot encoding on the categorical features\n",
        "vertebral_train_features_encoded = pd.get_dummies(vertebral_train_features)\n",
        "vertebral_val_features_encoded = pd.get_dummies(vertebral_val_features)\n",
        "\n",
        "# Create and train the decision tree classifier\n",
        "vertebral_tree = DecisionTreeClassifier(criterion=\"gini\", max_depth=3, random_state=42)\n",
        "vertebral_tree.fit(vertebral_train_features_encoded, vertebral_train_labels)\n",
        "\n",
        "# Perform predictions on the validation set\n",
        "vertebral_val_predictions = vertebral_tree.predict(vertebral_val_features_encoded)\n",
        "\n",
        "# Generate the classification report\n",
        "vertebral_classification_report = classification_report(\n",
        "    vertebral_val_labels, vertebral_val_predictions\n",
        ")\n",
        "\n",
        "print(vertebral_classification_report)"
      ],
      "metadata": {
        "id": "iDCvwqKSyYtY"
      },
      "execution_count": null,
      "outputs": []
    },
    {
      "cell_type": "code",
      "source": [
        "#determine confused class pairs\n",
        "vertebral_confusion_matrix  = pd.crosstab(vertebral_val_labels, vertebral_val_predictions)\n",
        "print(\"Wine Confusion Matrix:\")\n",
        "print(vertebral_confusion_matrix)"
      ],
      "metadata": {
        "id": "kBGAvUmeyz6e"
      },
      "execution_count": null,
      "outputs": []
    },
    {
      "cell_type": "code",
      "source": [
        "#selecting a confused pair and identifying the corresponding leaf nodes\n",
        "confused_classes = [(1, 2)]\n",
        "for class_pair in confused_classes:\n",
        "    class1, class2 = class_pair\n",
        "    misclassified_samples = vertebral_val_features_encoded[(vertebral_val_labels == class1) & (vertebral_val_predictions == class2)]\n",
        "    leaf_nodes = vertebral_tree.apply(misclassified_samples)\n",
        "    print(f\"Leaf nodes corresponding to misclassification between class {class1} and class {class2}:\")\n",
        "    # print leaf nodes\n",
        "    print(leaf_nodes)\n",
        "\n",
        "# Generate the classification report\n",
        "vertebral_classification_report = classification_report(\n",
        "    vertebral_val_labels, vertebral_val_predictions\n",
        ")\n",
        "\n",
        "print(vertebral_classification_report)"
      ],
      "metadata": {
        "id": "EBU1tkpkzMCK"
      },
      "execution_count": null,
      "outputs": []
    },
    {
      "cell_type": "code",
      "source": [
        "print(vertebral_data.columns)"
      ],
      "metadata": {
        "id": "CkDY_9aK2tZ1"
      },
      "execution_count": null,
      "outputs": []
    },
    {
      "cell_type": "code",
      "source": [
        "\n",
        "\n",
        "# Rest of the code\n",
        "attribute_subset = ['pelvic_incidence numeric', 'pelvic_tilt numeric',\n",
        "       'lumbar_lordosis_angle numeric', 'sacral_slope numeric',\n",
        "       'pelvic_radius numeric', 'degree_spondylolisthesis numeric', 'class']\n",
        "\n",
        "#vertebral_train_features_encoded = vertebral_train_features_encoded.reindex(columns=attribute_subset)\n",
        "#vertebral_val_features_encoded = vertebral_val_features_encoded.reindex(columns=attribute_subset)\n",
        "\n",
        "original_tree = DecisionTreeClassifier(criterion=\"gini\", max_depth=None, random_state=42)\n",
        "original_tree.fit(vertebral_train_features_encoded, vertebral_train_labels)\n",
        "original_val_predictions = original_tree.predict(vertebral_val_features)\n",
        "original_classification_report = classification_report(vertebral_val_labels, original_val_predictions)\n",
        "print(\"Original Decision Tree Classification Report:\")\n",
        "print(original_classification_report)\n",
        "\n",
        "for attribute in attribute_subset:\n",
        "    subset_train_features = vertebral_train_features[attribute]\n",
        "    subset_val_features = vertebral_val_features[attribute]\n",
        "\n",
        "    subset_tree = DecisionTreeClassifier(criterion=\"gini\", max_depth=None, random_state=42)\n",
        "    subset_tree.fit(subset_train_features.values.reshape(-1, 1), vertebral_train_labels)\n",
        "    subset_val_predictions = subset_tree.predict(subset_val_features.values.reshape(-1, 1))\n",
        "    subset_classification_report = classification_report(vertebral_val_labels, subset_val_predictions)\n",
        "\n",
        "    print(f\"Subset: {attribute}\")\n",
        "    print(f\"Subset Decision Tree Classification Report:\")\n",
        "    print(subset_classification_report)"
      ],
      "metadata": {
        "colab": {
          "base_uri": "https://localhost:8080/",
          "height": 246
        },
        "id": "4wTdbiHy1Ewu",
        "outputId": "4affc8bf-f72b-48eb-b9a9-b45ee60d8309"
      },
      "execution_count": 1,
      "outputs": [
        {
          "output_type": "error",
          "ename": "NameError",
          "evalue": "ignored",
          "traceback": [
            "\u001b[0;31m---------------------------------------------------------------------------\u001b[0m",
            "\u001b[0;31mNameError\u001b[0m                                 Traceback (most recent call last)",
            "\u001b[0;32m<ipython-input-1-b169571dc8fd>\u001b[0m in \u001b[0;36m<cell line: 9>\u001b[0;34m()\u001b[0m\n\u001b[1;32m      7\u001b[0m \u001b[0;31m#vertebral_val_features_encoded = vertebral_val_features_encoded.reindex(columns=attribute_subset)\u001b[0m\u001b[0;34m\u001b[0m\u001b[0;34m\u001b[0m\u001b[0m\n\u001b[1;32m      8\u001b[0m \u001b[0;34m\u001b[0m\u001b[0m\n\u001b[0;32m----> 9\u001b[0;31m \u001b[0moriginal_tree\u001b[0m \u001b[0;34m=\u001b[0m \u001b[0mDecisionTreeClassifier\u001b[0m\u001b[0;34m(\u001b[0m\u001b[0mcriterion\u001b[0m\u001b[0;34m=\u001b[0m\u001b[0;34m\"gini\"\u001b[0m\u001b[0;34m,\u001b[0m \u001b[0mmax_depth\u001b[0m\u001b[0;34m=\u001b[0m\u001b[0;32mNone\u001b[0m\u001b[0;34m,\u001b[0m \u001b[0mrandom_state\u001b[0m\u001b[0;34m=\u001b[0m\u001b[0;36m42\u001b[0m\u001b[0;34m)\u001b[0m\u001b[0;34m\u001b[0m\u001b[0;34m\u001b[0m\u001b[0m\n\u001b[0m\u001b[1;32m     10\u001b[0m \u001b[0moriginal_tree\u001b[0m\u001b[0;34m.\u001b[0m\u001b[0mfit\u001b[0m\u001b[0;34m(\u001b[0m\u001b[0mvertebral_train_features_encoded\u001b[0m\u001b[0;34m,\u001b[0m \u001b[0mvertebral_train_labels\u001b[0m\u001b[0;34m)\u001b[0m\u001b[0;34m\u001b[0m\u001b[0;34m\u001b[0m\u001b[0m\n\u001b[1;32m     11\u001b[0m \u001b[0moriginal_val_predictions\u001b[0m \u001b[0;34m=\u001b[0m \u001b[0moriginal_tree\u001b[0m\u001b[0;34m.\u001b[0m\u001b[0mpredict\u001b[0m\u001b[0;34m(\u001b[0m\u001b[0mvertebral_val_features\u001b[0m\u001b[0;34m)\u001b[0m\u001b[0;34m\u001b[0m\u001b[0;34m\u001b[0m\u001b[0m\n",
            "\u001b[0;31mNameError\u001b[0m: name 'DecisionTreeClassifier' is not defined"
          ]
        }
      ]
    },
    {
      "cell_type": "code",
      "source": [],
      "metadata": {
        "id": "cWKBeuN9AfeZ"
      },
      "execution_count": null,
      "outputs": []
    }
  ]
}